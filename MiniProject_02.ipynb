{
  "nbformat": 4,
  "nbformat_minor": 0,
  "metadata": {
    "colab": {
      "provenance": [],
      "authorship_tag": "ABX9TyM7TdAQVyzYjU07T/td+APN",
      "include_colab_link": true
    },
    "kernelspec": {
      "name": "python3",
      "display_name": "Python 3"
    },
    "language_info": {
      "name": "python"
    }
  },
  "cells": [
    {
      "cell_type": "markdown",
      "metadata": {
        "id": "view-in-github",
        "colab_type": "text"
      },
      "source": [
        "<a href=\"https://colab.research.google.com/github/Tuhin04/MiniProject-02/blob/main/MiniProject_02.ipynb\" target=\"_parent\"><img src=\"https://colab.research.google.com/assets/colab-badge.svg\" alt=\"Open In Colab\"/></a>"
      ]
    },
    {
      "cell_type": "markdown",
      "source": [
        "Find all the list of products whose sum-of-price is between 290 and 310.\n",
        "\n",
        "ProductList = {p1:10, p2:15, p3:20, p4:25, p5:30, p6:35, p7:50}"
      ],
      "metadata": {
        "id": "_ECxTSopdXm2"
      }
    },
    {
      "cell_type": "code",
      "source": [
        "from itertools import combinations\n",
        "\n",
        "def find_product_lists(products, target_range):\n",
        "    valid_lists = []\n",
        "    for r in range(1, len(products) + 1):\n",
        "        for combination in combinations(products, r):\n",
        "            total_price = sum(products[product] for product in combination)\n",
        "            if target_range[0] <= total_price <= target_range[1]:\n",
        "                valid_lists.append(combination)\n",
        "    return valid_lists\n",
        "\n",
        "# Product list with prices\n",
        "product_list = {\n",
        "    'p1': 10,\n",
        "    'p2': 15,\n",
        "    'p3': 20,\n",
        "    'p4': 25,\n",
        "    'p5': 30,\n",
        "    'p6': 35,\n",
        "    'p7': 50\n",
        "}\n",
        "\n",
        "# Target sum range\n",
        "target_range = (290, 310)\n",
        "\n",
        "# Find product lists with sum-of-price in the target range\n",
        "valid_product_lists = find_product_lists(product_list, target_range)\n",
        "\n",
        "# Print the valid product lists\n",
        "for product_list in valid_product_lists:\n",
        "    print(product_list)\n",
        "\n",
        "\n"
      ],
      "metadata": {
        "id": "8nQu6yDtdgNc"
      },
      "execution_count": null,
      "outputs": []
    }
  ]
}